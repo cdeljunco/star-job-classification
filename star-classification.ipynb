{
 "cells": [
  {
   "cell_type": "markdown",
   "id": "shaped-adult",
   "metadata": {},
   "source": [
    "# STAR Classification"
   ]
  },
  {
   "cell_type": "markdown",
   "id": "irish-hormone",
   "metadata": {},
   "source": [
    "This notebook contains code to classify job titles according to the Staff Titles and Roles (STAR) classification developed by del Junco and de Jong. See documentation for detailed explanation of the classification scheme and implementation."
   ]
  },
  {
   "cell_type": "markdown",
   "id": "curious-enterprise",
   "metadata": {},
   "source": [
    "## Load packages"
   ]
  },
  {
   "cell_type": "code",
   "execution_count": 3,
   "id": "pressing-fight",
   "metadata": {},
   "outputs": [
    {
     "ename": "ModuleNotFoundError",
     "evalue": "No module named 'seaborn'",
     "output_type": "error",
     "traceback": [
      "\u001b[0;31m---------------------------------------------------------------------------\u001b[0m",
      "\u001b[0;31mModuleNotFoundError\u001b[0m                       Traceback (most recent call last)",
      "\u001b[0;32m/var/folders/zm/4xwl5pd57dnfqm16krd4ny1syhlqkc/T/ipykernel_42160/785004036.py\u001b[0m in \u001b[0;36m<module>\u001b[0;34m\u001b[0m\n\u001b[1;32m      7\u001b[0m \u001b[0;32mimport\u001b[0m \u001b[0mpickle\u001b[0m\u001b[0;34m\u001b[0m\u001b[0;34m\u001b[0m\u001b[0m\n\u001b[1;32m      8\u001b[0m \u001b[0;32mimport\u001b[0m \u001b[0mre\u001b[0m\u001b[0;34m\u001b[0m\u001b[0;34m\u001b[0m\u001b[0m\n\u001b[0;32m----> 9\u001b[0;31m \u001b[0;32mimport\u001b[0m \u001b[0mseaborn\u001b[0m \u001b[0;32mas\u001b[0m \u001b[0msns\u001b[0m\u001b[0;34m\u001b[0m\u001b[0;34m\u001b[0m\u001b[0m\n\u001b[0m",
      "\u001b[0;31mModuleNotFoundError\u001b[0m: No module named 'seaborn'"
     ]
    }
   ],
   "source": [
    "import pandas as pd\n",
    "import csv\n",
    "import time\n",
    "import numpy as np\n",
    "import matplotlib.pyplot as plt\n",
    "%matplotlib inline\n",
    "import pickle\n",
    "import re\n",
    "import seaborn as sns"
   ]
  },
  {
   "cell_type": "markdown",
   "id": "suspended-election",
   "metadata": {},
   "source": [
    "## Load data and select what to classify"
   ]
  },
  {
   "cell_type": "code",
   "execution_count": 15,
   "id": "talented-funds",
   "metadata": {},
   "outputs": [],
   "source": [
    "#load a table containing minimally the columns:\n",
    "#job_title\n",
    "#umetrics_occupational_class AS uoc\n",
    "#systematic_occupational_class AS soc\n",
    "\n",
    "#here we load a csv file but you can also use a pandas dataframe directly from a SQL query. "
   ]
  },
  {
   "cell_type": "code",
   "execution_count": 4,
   "id": "fourth-microwave",
   "metadata": {},
   "outputs": [],
   "source": [
    "job_titles_raw = pd.read_csv('../STAR-Classification-Dev/20220805_job_titles_SOC.csv')\n",
    "# job_titles_raw.rename(columns={'systematic_occupational_class':'soc', 'umetrics_occupational_class':'uoc'}, inplace = True)"
   ]
  },
  {
   "cell_type": "code",
   "execution_count": 5,
   "id": "collected-smart",
   "metadata": {},
   "outputs": [
    {
     "data": {
      "text/html": [
       "<div>\n",
       "<style scoped>\n",
       "    .dataframe tbody tr th:only-of-type {\n",
       "        vertical-align: middle;\n",
       "    }\n",
       "\n",
       "    .dataframe tbody tr th {\n",
       "        vertical-align: top;\n",
       "    }\n",
       "\n",
       "    .dataframe thead th {\n",
       "        text-align: right;\n",
       "    }\n",
       "</style>\n",
       "<table border=\"1\" class=\"dataframe\">\n",
       "  <thead>\n",
       "    <tr style=\"text-align: right;\">\n",
       "      <th></th>\n",
       "      <th>Unnamed: 0</th>\n",
       "      <th>uoc</th>\n",
       "      <th>job_title</th>\n",
       "    </tr>\n",
       "  </thead>\n",
       "  <tbody>\n",
       "    <tr>\n",
       "      <th>0</th>\n",
       "      <td>1</td>\n",
       "      <td>Graduate Student</td>\n",
       "      <td>Research Assistant</td>\n",
       "    </tr>\n",
       "  </tbody>\n",
       "</table>\n",
       "</div>"
      ],
      "text/plain": [
       "   Unnamed: 0               uoc           job_title\n",
       "0           1  Graduate Student  Research Assistant"
      ]
     },
     "execution_count": 5,
     "metadata": {},
     "output_type": "execute_result"
    }
   ],
   "source": [
    "job_titles_raw.head(1)"
   ]
  },
  {
   "cell_type": "code",
   "execution_count": 38,
   "id": "generic-adolescent",
   "metadata": {},
   "outputs": [],
   "source": [
    "# #replace this with whatever condition on soc or uoc you want to use to select Staff, e.g:\n",
    "# staff_condition = job_titles_raw.soc == 'Staff'\n",
    "#condition below picks all titles\n",
    "staff_condition = (job_titles_raw.job_title == 'dummy') | True"
   ]
  },
  {
   "cell_type": "code",
   "execution_count": 39,
   "id": "rocky-columbus",
   "metadata": {},
   "outputs": [],
   "source": [
    "#select distinct job titles that match this condition\n",
    "job_titles = job_titles_raw[staff_condition][['job_title']].drop_duplicates()\n",
    "# job_titles = job_titles_raw[['job_title']].drop_duplicates()"
   ]
  },
  {
   "cell_type": "code",
   "execution_count": 40,
   "id": "spiritual-renewal",
   "metadata": {},
   "outputs": [
    {
     "data": {
      "text/plain": [
       "6520"
      ]
     },
     "execution_count": 40,
     "metadata": {},
     "output_type": "execute_result"
    }
   ],
   "source": [
    "len(job_titles_raw)"
   ]
  },
  {
   "cell_type": "code",
   "execution_count": 41,
   "id": "impaired-evolution",
   "metadata": {},
   "outputs": [
    {
     "data": {
      "text/plain": [
       "6374"
      ]
     },
     "execution_count": 41,
     "metadata": {},
     "output_type": "execute_result"
    }
   ],
   "source": [
    "len(job_titles)"
   ]
  },
  {
   "cell_type": "markdown",
   "id": "precious-hybrid",
   "metadata": {},
   "source": [
    "=========================================================================================="
   ]
  },
  {
   "cell_type": "markdown",
   "id": "similar-peninsula",
   "metadata": {},
   "source": [
    "#### Aside on UOC\n",
    "\n",
    "The uoc has some spelling errors, so be sure to check and standardize it for your sample if you are using it to select staff titles to classify."
   ]
  },
  {
   "cell_type": "code",
   "execution_count": 42,
   "id": "arbitrary-arizona",
   "metadata": {},
   "outputs": [
    {
     "data": {
      "text/plain": [
       "Research Facilitation     2762\n",
       "Research                  1466\n",
       "Technical Support          801\n",
       "Clinical                   579\n",
       "Other                      327\n",
       "Instructional              166\n",
       "Faculty                    143\n",
       "Graduate Student           120\n",
       "Undergraduate               90\n",
       "Other Staff                 34\n",
       "Post Graduate Research      32\n",
       "Name: uoc, dtype: int64"
      ]
     },
     "execution_count": 42,
     "metadata": {},
     "output_type": "execute_result"
    }
   ],
   "source": [
    "job_titles_raw.uoc.value_counts()"
   ]
  },
  {
   "cell_type": "code",
   "execution_count": 43,
   "id": "streaming-court",
   "metadata": {},
   "outputs": [
    {
     "data": {
      "text/plain": [
       "Research Facilitation     2762\n",
       "Research                  1466\n",
       "Technical Support          801\n",
       "Clinical                   579\n",
       "Other                      327\n",
       "Instructional              166\n",
       "Faculty                    143\n",
       "Graduate Student           120\n",
       "Undergraduate               90\n",
       "Other Staff                 34\n",
       "Post Graduate Research      32\n",
       "Name: uoc, dtype: int64"
      ]
     },
     "execution_count": 43,
     "metadata": {},
     "output_type": "execute_result"
    }
   ],
   "source": [
    "replace_dict = {'Undergraduate ': 'Undergraduate', 'faculty':'Faculty', 'Graduate Student ':'Graduate Student', 'Research ':'Research', 'REsearch Facilitation':'Research Facilitation', 'Other staff':'Other Staff'}\n",
    "\n",
    "for key, val in replace_dict.items():\n",
    "    job_titles_raw.uoc.replace(to_replace=key, value=val, inplace=True)\n",
    "    \n",
    "job_titles_raw.uoc.value_counts()"
   ]
  },
  {
   "cell_type": "markdown",
   "id": "apart-thesis",
   "metadata": {},
   "source": [
    "=========================================================================================="
   ]
  },
  {
   "cell_type": "markdown",
   "id": "inappropriate-baptist",
   "metadata": {},
   "source": [
    "## Clean titles"
   ]
  },
  {
   "cell_type": "code",
   "execution_count": 44,
   "id": "signed-enforcement",
   "metadata": {},
   "outputs": [],
   "source": [
    "PUNC_MARKS = [\"-\", \"_\", \"/\", \")\", \"(\", \",\", \".\", '&', \";\", \"`\", ':']#,'0', '1', '2', '3', '4', '5', '6', '7', '8', '9']\n",
    "ROMAN_NUMS = ['i', 'ii', 'iii', 'iv', 'v', 'vi', 'vii', 'viii', 'ix', 'x']\n",
    "\n",
    "#read in the standard/alternative spellings that we've saved\n",
    "def get_replacements():\n",
    "    \n",
    "    standard_terms = []\n",
    "    alt_spellings = []\n",
    "    \n",
    "    #standardized-job-terms-rw.csv has the standardized spelling in the first column \n",
    "    #and alternative spellings in subsequent columns\n",
    "    with open('standardized-job-terms-rw.csv') as f:\n",
    "        reader = csv.reader(f)\n",
    "        #skip header\n",
    "        next(reader)\n",
    "        for row in reader:\n",
    "            standard_terms.append(row[0])\n",
    "            temp = row[1:]\n",
    "            while(\"\" in temp) : \n",
    "                temp.remove(\"\") \n",
    "            alt_spellings.append(temp)\n",
    "       \n",
    "    return standard_terms, alt_spellings \n",
    "\n",
    "#define uninformative terms (e.g. fiscal year denotes when the employee was paid, \n",
    "#                               not that they are a financial expert)\n",
    "UNINF = ['fiscal year', 'fy']\n",
    "\n",
    "#clean job titles\n",
    "def clean_job_title(job_title, standard_terms, alt_spellings):\n",
    "    \n",
    "    #replace NaNs\n",
    "    if not isinstance(job_title, str):\n",
    "        return \"na\"\n",
    "    \n",
    "    #make lowercase\n",
    "    jt = job_title.casefold()\n",
    "    \n",
    "    #removing punctuation\n",
    "    for mark in PUNC_MARKS:\n",
    "        jt = jt.replace(mark, \" \")\n",
    "        \n",
    "    #removing roman numerals\n",
    "    for rn in ROMAN_NUMS:\n",
    "        jt = re.sub(r\"\\b%s\\b\" % rn , ' ', jt)\n",
    "        \n",
    "    #remove uninformative terms that might interfere with classification, \n",
    "    #e.g. 'fiscal year'\n",
    "        \n",
    "    for ut in UNINF:\n",
    "        jt = re.sub(r\"\\b%s\\b\" % ut , ' ', jt)\n",
    "        \n",
    "    #standardize terms, \n",
    "    #e.g. 'mngr' becomes manager\n",
    "        \n",
    "    for i, st in enumerate(standard_terms):\n",
    "        for alt_sp in alt_spellings[i]:\n",
    "            jt = re.sub(r\"\\b%s\\b\" % alt_sp , st, jt)\n",
    "            #jt = jt.replace(alt_sp, st)\n",
    "    \n",
    "    #remove extra whitespaces\n",
    "    jt = \" \".join(jt.split())\n",
    "    \n",
    "    \n",
    "    return jt\n",
    "            "
   ]
  },
  {
   "cell_type": "markdown",
   "id": "legislative-programming",
   "metadata": {},
   "source": [
    "Process the job titles"
   ]
  },
  {
   "cell_type": "code",
   "execution_count": 45,
   "id": "protecting-reducing",
   "metadata": {},
   "outputs": [
    {
     "name": "stdout",
     "output_type": "stream",
     "text": [
      "CPU times: user 1.86 s, sys: 4.61 ms, total: 1.87 s\n",
      "Wall time: 1.87 s\n"
     ]
    }
   ],
   "source": [
    "%%time\n",
    "standard_terms, alt_spellings = get_replacements()\n",
    "job_titles.loc[:, \"job_title_clean\"] = [clean_job_title(jt, standard_terms, alt_spellings) for jt in job_titles[\"job_title\"]]"
   ]
  },
  {
   "cell_type": "markdown",
   "id": "square-swaziland",
   "metadata": {},
   "source": [
    "## Classify titles"
   ]
  },
  {
   "cell_type": "markdown",
   "id": "super-mountain",
   "metadata": {},
   "source": [
    "Using logical rules:"
   ]
  },
  {
   "cell_type": "code",
   "execution_count": 58,
   "id": "coral-metallic",
   "metadata": {},
   "outputs": [],
   "source": [
    "def classify(jt):\n",
    "    \n",
    "    #filter leadership\n",
    "    or_terms = ['dean', 'chair', 'provost']\n",
    "    if any([re.search(r\"\\b%s\\b\" % term, jt) for term in or_terms]):\n",
    "        return 'leadership'\n",
    "    \n",
    "    #filter grant specialists\n",
    "    or_terms = ['grant', 'proposal']\n",
    "    if any([re.search(r\"\\b%s\\b\" % term, jt) for term in or_terms]):\n",
    "        return 'grants'\n",
    "    \n",
    "    #filter safety and compliance specialists\n",
    "    or_terms = ['compliance', 'quality', 'safety', 'evaluation', 'regulatory', 'insurance', 'policy', 'monitor']\n",
    "    if any([re.search(r\"\\b%s\\b\" % term, jt) for term in or_terms]):\n",
    "        return 'accountability'\n",
    "    \n",
    "    #filter communications specialists\n",
    "    or_terms = ['writer', 'editor', 'communication', 'outreach', 'media', 'marketing', 'webmaster', 'education', 'graphic', 'designer']\n",
    "    if any([re.search(r\"\\b%s\\b\" % term, jt) for term in or_terms]):\n",
    "        return 'communications'\n",
    "    \n",
    "    #filter librarians\n",
    "    or_terms = ['librarian', 'archivist']\n",
    "    if any([re.search(r\"\\b%s\\b\" % term, jt) for term in or_terms]):\n",
    "        return 'librarian'\n",
    "    \n",
    "    #filter accountants\n",
    "    or_terms = ['accountant', 'accounting', 'fiscal', 'financial']\n",
    "    if any([re.search(r\"\\b%s\\b\" % term, jt) for term in or_terms]):\n",
    "        return 'financial'\n",
    "    \n",
    "    #filter clinical research coordinators\n",
    "    or_terms = ['clinical trial', 'clinical research']\n",
    "    and_terms = ['manager', 'coordinator', 'specialist']\n",
    "    if any([re.search(r\"\\b%s\\b\" % term, jt) for term in or_terms]) and any([re.search(r\"\\b%s\\b\" % term, jt) for term in and_terms]):\n",
    "        return \"clinical research coordinator\"\n",
    "    \n",
    "    #filter doctors\n",
    "    or_terms = ['physician', 'resident']\n",
    "    if any([re.search(r\"\\b%s\\b\" % term, jt) for term in or_terms]):\n",
    "        return 'physician'\n",
    "    \n",
    "    #filter other medical professionals\n",
    "    or_terms = ['social worker', 'nurse', 'dietician', 'medical assistant', 'health professional', 'phlebotomist', 'therapist', 'psychologist', 'pharmacist']\n",
    "    if any([re.search(r\"\\b%s\\b\" % term, jt) for term in or_terms]):\n",
    "        return 'non-md health professional'\n",
    "    \n",
    "    #filter human research subject technicians\n",
    "    or_terms = ['interviewer', 'human', 'patient', 'clinical subject', 'recruitment', 'survey']\n",
    "    if any([re.search(r\"\\b%s\\b\" % term, jt) for term in or_terms]):\n",
    "        return 'human technician'\n",
    "    \n",
    "    #filter animal research subject technicians\n",
    "    or_terms = ['animal', 'vet', 'wildlife']\n",
    "    if any([re.search(r\"\\b%s\\b\" % term, jt) for term in or_terms]):\n",
    "        return 'animal technician'\n",
    "    \n",
    "    #filter IT and lab technicians\n",
    "    or_terms = ['engineer', 'data', 'it', 'informatics', 'information', 'statistics', 'computer', 'mechanic', 'machinist', 'application', 'programmer']\n",
    "    if any([re.search(r\"\\b%s\\b\" % term, jt) for term in or_terms]):\n",
    "        return 'lab & IT technician'\n",
    "    \n",
    "    or_terms = ['develop', 'specialist', 'analyst', 'architect', 'consultant','administrator', 'technician', 'specialist']\n",
    "    and_terms = ['software', 'web', 'system', 'survey', 'laboratory']\n",
    "    if any([re.search(r\"\\b%s\\b\" % term, jt) for term in or_terms]) and any([re.search(r\"\\b%s\\b\" % term, jt) for term in and_terms]):\n",
    "        return 'lab & IT technician'\n",
    "    \n",
    "    #filter general technicians\n",
    "    or_terms = ['technician']\n",
    "    if any([re.search(r\"\\b%s\\b\" % term, jt) for term in or_terms]):\n",
    "        return 'technician'\n",
    "    \n",
    "    #filter instructors\n",
    "    or_terms = ['instructor', 'lecturer', 'teacher', 'tutor', 'ta', 'educator']\n",
    "    if any([re.search(r\"\\b%s\\b\" % term, jt) for term in or_terms]):\n",
    "        return 'instructor'\n",
    "        \n",
    "    #filter admin assistants\n",
    "    or_terms = ['administrator', 'office', 'program', 'clerical', 'project']\n",
    "    and_terms = ['assistant', 'aide', 'support']\n",
    "    if any([re.search(r\"\\b%s\\b\" % term, jt) for term in or_terms]) and any([re.search(r\"\\b%s\\b\" % term, jt) for term in and_terms]):\n",
    "        return 'administrative assistant'\n",
    "    \n",
    "    #filter admin assistants\n",
    "    or_terms = ['secretary', 'receptionist', 'clerical']\n",
    "    if any([re.search(r\"\\b%s\\b\" % term, jt) for term in or_terms]):\n",
    "        return 'administrative assistant'\n",
    "        \n",
    "    #filter administrators - we filter them late to classify e.g. website administrators as technicians\n",
    "    or_terms = ['administrator', 'coordinator', 'develop', 'office', 'manager', 'supervisor', 'director']\n",
    "    if any([re.search(r\"\\b%s\\b\" % term, jt) for term in or_terms]):\n",
    "        return 'administrator'\n",
    "    \n",
    "    #filter administrators - we filter them late to classify e.g. website administrators as technicians\n",
    "    or_terms = ['project', 'research']\n",
    "    and_terms = ['support']\n",
    "    if any([re.search(r\"\\b%s\\b\" % term, jt) for term in or_terms]) and any([re.search(r\"\\b%s\\b\" % term, jt) for term in and_terms]):\n",
    "        return 'administrator'\n",
    "    \n",
    "    #filter RAs\n",
    "    or_terms = ['research', 'laboratory', 'sci']\n",
    "    and_terms = ['assistant', 'intern', 'aide']\n",
    "    if any([re.search(r\"\\b%s\\b\" % term, jt) for term in or_terms]) and any([re.search(r\"\\b%s\\b\" % term, jt) for term in and_terms]):\n",
    "        return 'research assistant'\n",
    "    \n",
    "    #filter faculty\n",
    "    or_terms = ['professor', 'emeritus', 'principal investigator', 'veterinarian']\n",
    "    if any([re.search(r\"\\b%s\\b\" % term, jt) for term in or_terms]):\n",
    "        return 'faculty'\n",
    "    \n",
    "    #filter researchers\n",
    "    or_terms = ['scholar', 'fellow', 'postdoc']\n",
    "    if any([re.search(r\"\\b%s\\b\" % term, jt) for term in or_terms]):\n",
    "        return 'researcher'\n",
    "    \n",
    "    or_terms = ['research', 'sci']\n",
    "    not_terms = ['support']\n",
    "    if any([re.search(r\"\\b%s\\b\" % term, jt) for term in or_terms]) and not any([re.search(r\"\\b%s\\b\" % term, jt) for term in not_terms]):\n",
    "        return 'researcher'\n",
    "    \n",
    "    #filter researchers\n",
    "    or_terms = ['research']\n",
    "    and_terms = ['associate', 'staff', 'academic']\n",
    "    if any([re.search(r\"\\b%s\\b\" % term, jt) for term in or_terms]) and any([re.search(r\"\\b%s\\b\" % term, jt) for term in and_terms]):\n",
    "        return 'researcher'\n",
    "    \n",
    "    #finally, anyone casually employed who has not already been classified as another category...\n",
    "    or_terms = ['temporary', 'casual', 'hourly']\n",
    "    if any([re.search(r\"\\b%s\\b\" % term, jt) for term in or_terms]):\n",
    "        return 'temp'\n",
    "    \n",
    "    if jt == '' or jt == 'na':\n",
    "        return 'insufficient information'\n",
    "    \n",
    "    return 'none'\n"
   ]
  },
  {
   "cell_type": "markdown",
   "id": "small-island",
   "metadata": {},
   "source": [
    "Using dictionary of partial/complete job titles:"
   ]
  },
  {
   "cell_type": "code",
   "execution_count": 59,
   "id": "virgin-dutch",
   "metadata": {},
   "outputs": [],
   "source": [
    "def classify_2(jt, contains_dict, matches_dict):\n",
    "            \n",
    "    for sc, strings in contains_dict.items():\n",
    "        if any(re.search(r\"\\b%s\\b\" % string, jt) for string in strings):\n",
    "            return sc\n",
    "    \n",
    "    for sc, titles in matches_dict.items():\n",
    "        if jt in titles:\n",
    "            return sc\n",
    "            \n",
    "    return False"
   ]
  },
  {
   "cell_type": "markdown",
   "id": "adverse-yeast",
   "metadata": {},
   "source": [
    "Process data:"
   ]
  },
  {
   "cell_type": "code",
   "execution_count": 60,
   "id": "stylish-mongolia",
   "metadata": {},
   "outputs": [
    {
     "name": "stdout",
     "output_type": "stream",
     "text": [
      "CPU times: user 625 ms, sys: 3.06 ms, total: 628 ms\n",
      "Wall time: 627 ms\n"
     ]
    }
   ],
   "source": [
    "%%time\n",
    "with open('title_contains_dict.txt', 'rb') as f:\n",
    "    contains_dict = pickle.load(f)\n",
    "with open('title_matches_dict.txt', 'rb') as f:\n",
    "    matches_dict = pickle.load(f)\n",
    "job_titles.loc[:, \"star_class\"] = [classify_2(jt, contains_dict, matches_dict) if classify_2(jt, contains_dict, matches_dict) else classify(jt) for jt in job_titles[\"job_title_clean\"]]"
   ]
  },
  {
   "cell_type": "markdown",
   "id": "differential-continent",
   "metadata": {},
   "source": [
    "## Merge with remaining data"
   ]
  },
  {
   "cell_type": "code",
   "execution_count": 61,
   "id": "latter-insight",
   "metadata": {},
   "outputs": [],
   "source": [
    "jt_classified = job_titles_raw.merge(job_titles, how = 'left')\n",
    "jt_classified['star_class'] = [sc.casefold() for sc in jt_classified.star_class]\n",
    "#jt_classified['star_class'] = [sc.casefold() if soc == 'Staff' else soc.casefold() for (sc, soc) in zip(jt_classified.star_class, jt_classified.soc)]"
   ]
  },
  {
   "cell_type": "code",
   "execution_count": 62,
   "id": "sought-courage",
   "metadata": {},
   "outputs": [
    {
     "name": "stdout",
     "output_type": "stream",
     "text": [
      "24\n"
     ]
    },
    {
     "data": {
      "text/plain": [
       "administrator                    1383\n",
       "lab & it technician              1375\n",
       "researcher                        617\n",
       "non-md health professional        436\n",
       "technician                        390\n",
       "research assistant                318\n",
       "communications                    297\n",
       "administrative assistant          238\n",
       "human technician                  182\n",
       "insufficient information          173\n",
       "instructor                        162\n",
       "accountability                    150\n",
       "financial                         142\n",
       "animal technician                 127\n",
       "clinical research coordinator      98\n",
       "grants                             81\n",
       "temp                               79\n",
       "other specialist                   62\n",
       "librarian                          47\n",
       "other                              47\n",
       "leadership                         45\n",
       "physician                          40\n",
       "faculty                            29\n",
       "undergraduate                       2\n",
       "Name: star_class, dtype: int64"
      ]
     },
     "metadata": {},
     "output_type": "display_data"
    }
   ],
   "source": [
    "print(jt_classified.star_class.nunique())\n",
    "display(jt_classified.star_class.value_counts())"
   ]
  },
  {
   "cell_type": "markdown",
   "id": "meaningful-ladder",
   "metadata": {},
   "source": [
    "## Super classes"
   ]
  },
  {
   "cell_type": "code",
   "execution_count": 63,
   "id": "liberal-transfer",
   "metadata": {},
   "outputs": [],
   "source": [
    "#====modify this code to assign your own super-classes====\n",
    "\n",
    "#group classes into super-classes\n",
    "academic_classes = ['other student', 'undergraduate' , 'graduate student', 'post graduate research', 'faculty']\n",
    "no_info_classes = ['temp', 'insufficient information']\n",
    "other_classes = ['other']\n",
    "instructor_classes = ['instructor']\n",
    "tech_classes = ['technician', 'human technician', 'animal technician', 'lab & it technician']\n",
    "research_classes = ['researcher', 'research assistant']\n",
    "specialist_classes = ['clinical research coordinator', 'communications', 'accountability', 'financial', 'grants', 'librarian', 'other specialist']\n",
    "admin_classes = ['leadership', 'administrator', 'administrative assistant']\n",
    "med_classes = ['physician', 'non-md health professional']\n",
    "#uncomment the following line if you have unclassified titles (check this below)\n",
    "#unclassified = ['none']\n",
    "\n",
    "#define the names of the super classes\n",
    "SUPER_CLASSES_DICT = {'medical professionals':med_classes, 'academic track':academic_classes, \n",
    "                     'instructors':instructor_classes, 'researchers':research_classes, \n",
    "                     'technicians':tech_classes,  'specialists':specialist_classes, \n",
    "                     'administrators':admin_classes, 'other':other_classes, \n",
    "                     'insufficient information':no_info_classes}#, \n",
    "                      #uncomment the following line if you expect to have unclassified titles \n",
    "                      #'unclassified':unclassified}"
   ]
  },
  {
   "cell_type": "code",
   "execution_count": 64,
   "id": "considerable-place",
   "metadata": {},
   "outputs": [],
   "source": [
    "def assign_super_class(sc):\n",
    "    \n",
    "    for key, val in SUPER_CLASSES_DICT.items():\n",
    "        if sc in val:\n",
    "            return key"
   ]
  },
  {
   "cell_type": "code",
   "execution_count": 65,
   "id": "quick-reflection",
   "metadata": {},
   "outputs": [],
   "source": [
    "jt_classified['super_class'] = [assign_super_class(sc) for sc in jt_classified.star_class]"
   ]
  },
  {
   "cell_type": "markdown",
   "id": "measured-charity",
   "metadata": {},
   "source": [
    "Check that every class has a super-class:"
   ]
  },
  {
   "cell_type": "code",
   "execution_count": 66,
   "id": "wireless-zealand",
   "metadata": {},
   "outputs": [],
   "source": [
    "if sum([1 for sc in SUPER_CLASSES_DICT.values() for c in sc]) == jt_classified['star_class'].nunique():\n",
    "    print('all classes are in a super class')\n",
    "else:\n",
    "    for c in jt_classified['star_class'].unique():\n",
    "        if c not in [c for sc in SUPER_CLASSES_DICT.values() for c in sc]:\n",
    "            print(c)"
   ]
  },
  {
   "cell_type": "code",
   "execution_count": 67,
   "id": "designing-professor",
   "metadata": {},
   "outputs": [
    {
     "data": {
      "text/html": [
       "<div>\n",
       "<style scoped>\n",
       "    .dataframe tbody tr th:only-of-type {\n",
       "        vertical-align: middle;\n",
       "    }\n",
       "\n",
       "    .dataframe tbody tr th {\n",
       "        vertical-align: top;\n",
       "    }\n",
       "\n",
       "    .dataframe thead th {\n",
       "        text-align: right;\n",
       "    }\n",
       "</style>\n",
       "<table border=\"1\" class=\"dataframe\">\n",
       "  <thead>\n",
       "    <tr style=\"text-align: right;\">\n",
       "      <th></th>\n",
       "      <th>Unnamed: 0</th>\n",
       "      <th>uoc</th>\n",
       "      <th>job_title</th>\n",
       "      <th>job_title_clean</th>\n",
       "      <th>star_class</th>\n",
       "      <th>super_class</th>\n",
       "    </tr>\n",
       "  </thead>\n",
       "  <tbody>\n",
       "    <tr>\n",
       "      <th>0</th>\n",
       "      <td>1</td>\n",
       "      <td>Graduate Student</td>\n",
       "      <td>Research Assistant</td>\n",
       "      <td>research assistant</td>\n",
       "      <td>research assistant</td>\n",
       "      <td>researchers</td>\n",
       "    </tr>\n",
       "  </tbody>\n",
       "</table>\n",
       "</div>"
      ],
      "text/plain": [
       "   Unnamed: 0               uoc           job_title     job_title_clean  \\\n",
       "0           1  Graduate Student  Research Assistant  research assistant   \n",
       "\n",
       "           star_class  super_class  \n",
       "0  research assistant  researchers  "
      ]
     },
     "execution_count": 67,
     "metadata": {},
     "output_type": "execute_result"
    }
   ],
   "source": [
    "jt_classified.head(1)"
   ]
  },
  {
   "cell_type": "markdown",
   "id": "interstate-orleans",
   "metadata": {},
   "source": [
    "## Descriptive statistics"
   ]
  },
  {
   "cell_type": "markdown",
   "id": "separated-protein",
   "metadata": {},
   "source": [
    "#### Fraction of classified titles"
   ]
  },
  {
   "cell_type": "code",
   "execution_count": 68,
   "id": "prostate-deviation",
   "metadata": {},
   "outputs": [
    {
     "name": "stdout",
     "output_type": "stream",
     "text": [
      "fraction of unique cleaned titles remaining unclassified: \n",
      "0.0\n",
      "number of unique cleaned titles remaining unclassified: \n",
      "0\n",
      "fraction of records remaining unclassified: \n",
      "0.0\n",
      "number of records remaining unclassified: \n",
      "0\n"
     ]
    }
   ],
   "source": [
    "print('fraction of unique cleaned titles remaining unclassified: ')\n",
    "print(jt_classified[(staff_condition) & (jt_classified.star_class == 'none')]['job_title_clean'].nunique()/jt_classified.job_title_clean.nunique())\n",
    "print('number of unique cleaned titles remaining unclassified: ')\n",
    "print(jt_classified[(staff_condition) & (jt_classified.star_class == 'none')]['job_title_clean'].nunique())\n",
    "print('fraction of records remaining unclassified: ')\n",
    "print(len(jt_classified[(staff_condition) & (jt_classified.star_class == 'none')])/len(jt_classified))\n",
    "print('number of records remaining unclassified: ')\n",
    "print(len(jt_classified[(staff_condition) & (jt_classified.star_class == 'none')]))"
   ]
  },
  {
   "cell_type": "markdown",
   "id": "according-symbol",
   "metadata": {},
   "source": [
    "#### Validation\n",
    "Generate a validation sample of size N for manual validation. To validate, add a column called 'val' and fill it with a 1 if the title is correct, 0 if incorrect, or 2 if unsure."
   ]
  },
  {
   "cell_type": "code",
   "execution_count": 40,
   "id": "robust-cincinnati",
   "metadata": {},
   "outputs": [],
   "source": [
    "#generate and export sample\n",
    "N = 1000\n",
    "val_sample = jt_classified[['job_title', 'job_title_clean']].sample(N)\n",
    "val_sample.to_csv('validation_sample.csv')"
   ]
  },
  {
   "cell_type": "code",
   "execution_count": 41,
   "id": "electoral-editor",
   "metadata": {},
   "outputs": [],
   "source": [
    "validated = pd.read_csv('validation_sample.csv')"
   ]
  },
  {
   "cell_type": "code",
   "execution_count": 42,
   "id": "american-elephant",
   "metadata": {},
   "outputs": [],
   "source": [
    "# #generating random validation tags to test plotting code -- don't do this for actual validation!\n",
    "# import random\n",
    "# validated['val'] = [random.choice([0, 1, 2]) for i in range(N)]"
   ]
  },
  {
   "cell_type": "code",
   "execution_count": 43,
   "id": "accessible-mediterranean",
   "metadata": {},
   "outputs": [
    {
     "data": {
      "text/plain": [
       "Text(0.5, 1.0, 'validation per record')"
      ]
     },
     "execution_count": 43,
     "metadata": {},
     "output_type": "execute_result"
    },
    {
     "data": {
      "image/png": "[encoded data removed]",
      "text/plain": [
       "<Figure size 432x288 with 1 Axes>"
      ]
     },
     "metadata": {
      "needs_background": "light"
     },
     "output_type": "display_data"
    }
   ],
   "source": [
    "sns.histplot(data = validated, x = 'val', stat='probability', discrete = True)\n",
    "plt.xticks(ticks = [0, 1, 2], labels = ['incorrect', 'correct', 'ambiguous'])\n",
    "plt.title('validation per record')"
   ]
  },
  {
   "cell_type": "code",
   "execution_count": 44,
   "id": "latin-insurance",
   "metadata": {},
   "outputs": [
    {
     "data": {
      "text/plain": [
       "Text(0.5, 1.0, 'validation per unique cleaned title')"
      ]
     },
     "execution_count": 44,
     "metadata": {},
     "output_type": "execute_result"
    },
    {
     "data": {
      "image/png": "[encoded data removed]",
      "text/plain": [
       "<Figure size 432x288 with 1 Axes>"
      ]
     },
     "metadata": {
      "needs_background": "light"
     },
     "output_type": "display_data"
    }
   ],
   "source": [
    "sns.histplot(data = validated[['job_title_clean', 'val']].drop_duplicates(), x = 'val', stat='probability', discrete = True)\n",
    "plt.xticks(ticks = [0, 1, 2], labels = ['incorrect', 'correct', 'ambiguous'])\n",
    "plt.title('validation per unique cleaned title')"
   ]
  },
  {
   "cell_type": "markdown",
   "id": "charged-tyler",
   "metadata": {},
   "source": [
    "#### Distribution of classes"
   ]
  },
  {
   "cell_type": "code",
   "execution_count": 69,
   "id": "necessary-round",
   "metadata": {},
   "outputs": [],
   "source": [
    "def make_pie_chart(df, labels = False):\n",
    "    \n",
    "    super_classes = [val for val in SUPER_CLASSES_DICT.values()]\n",
    "    super_tags = [key for key in SUPER_CLASSES_DICT.keys()]    \n",
    "    sub_tags = [c for super_class in super_classes for c in super_class]\n",
    "    \n",
    "    value_dict = dict(df['star_class'].value_counts())\n",
    "    val_list = []\n",
    "    for super_class in super_classes:\n",
    "        val_list.append([value_dict.get(key) for key in super_class])\n",
    "        \n",
    "    fig, ax = plt.subplots(figsize = (20, 20))\n",
    "\n",
    "    size = 0.4\n",
    "    vals = val_list\n",
    "    flat_vals = [item for subl in val_list for item in subl]\n",
    "\n",
    "    cmap = sns.color_palette(\"tab10\") #qualitative cmap with 5 color categories\n",
    "    outer_colors = sns.color_palette(\"tab10\", len(super_classes))\n",
    "\n",
    "    def adjust_lightness(color, amount=0.5):\n",
    "        import matplotlib.colors as mc\n",
    "        import colorsys\n",
    "        try:\n",
    "            c = mc.cnames[color]\n",
    "        except:\n",
    "            c = color\n",
    "        c = colorsys.rgb_to_hls(*mc.to_rgb(c))\n",
    "        return colorsys.hls_to_rgb(c[0], max(0, min(1, amount * c[1])), c[2])\n",
    "\n",
    "    inner_colors = [[adjust_lightness(color, amount) for amount in np.linspace(0.7, 1.3, len(super_class))] if len(super_class) > 1 else [color] for (color, super_class) in zip(outer_colors, super_classes)]\n",
    "    flat_colors = [item for subl in inner_colors for item in subl]\n",
    "    \n",
    "    if labels:\n",
    "\n",
    "        ax.pie([sum(vals) for vals in val_list], radius=1-size, colors=outer_colors,\n",
    "           wedgeprops=dict(width=size, edgecolor='w'), labels = super_tags, labeldistance = 0.5, rotatelabels = True)\n",
    "\n",
    "        ax.pie(flat_vals, radius=1, colors=flat_colors,\n",
    "           wedgeprops=dict(width=size, edgecolor='w'), labels = sub_tags, labeldistance = 0.7, rotatelabels = True)\n",
    "\n",
    "    else:\n",
    "\n",
    "        ax.pie([sum(vals) for vals in val_list], radius=1-size, colors=outer_colors,\n",
    "           wedgeprops=dict(width=size, edgecolor='w'))\n",
    "\n",
    "        ax.pie(flat_vals, radius=1, colors=flat_colors,\n",
    "           wedgeprops=dict(width=size, edgecolor='w'))\n",
    "        \n",
    "    fig.set_tight_layout(True)"
   ]
  }
 ],
 "metadata": {
  "kernelspec": {
   "display_name": "Python 3 (ipykernel)",
   "language": "python",
   "name": "python3"
  },
  "language_info": {
   "codemirror_mode": {
    "name": "ipython",
    "version": 3
   },
   "file_extension": ".py",
   "mimetype": "text/x-python",
   "name": "python",
   "nbconvert_exporter": "python",
   "pygments_lexer": "ipython3",
   "version": "3.9.7"
  }
 },
 "nbformat": 4,
 "nbformat_minor": 5
}
